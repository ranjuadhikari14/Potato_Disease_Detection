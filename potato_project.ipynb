{
  "nbformat": 4,
  "nbformat_minor": 0,
  "metadata": {
    "colab": {
      "provenance": [],
      "authorship_tag": "ABX9TyMeSvzksvVp3x+q7lhCcANm",
      "include_colab_link": true
    },
    "kernelspec": {
      "name": "python3",
      "display_name": "Python 3"
    },
    "language_info": {
      "name": "python"
    }
  },
  "cells": [
    {
      "cell_type": "markdown",
      "metadata": {
        "id": "view-in-github",
        "colab_type": "text"
      },
      "source": [
        "<a href=\"https://colab.research.google.com/github/ranjuadhikari14/Potato_Disease_Detection/blob/main/potato_project.ipynb\" target=\"_parent\"><img src=\"https://colab.research.google.com/assets/colab-badge.svg\" alt=\"Open In Colab\"/></a>"
      ]
    },
    {
      "cell_type": "code",
      "execution_count": 18,
      "metadata": {
        "colab": {
          "base_uri": "https://localhost:8080/"
        },
        "id": "WKtdBZ2Vf9ID",
        "outputId": "1bb76fa7-e61b-4de2-fbf8-59b3907bab9c"
      },
      "outputs": [
        {
          "output_type": "stream",
          "name": "stdout",
          "text": [
            "Path to dataset files: /kaggle/input/plantvillage\n"
          ]
        }
      ],
      "source": [
        "import kagglehub\n",
        "\n",
        "dataset_path = kagglehub.dataset_download(\"mohitsingh1804/plantvillage\")\n",
        "print(\"Path to dataset files:\", dataset_path)\n"
      ]
    },
    {
      "cell_type": "code",
      "source": [
        "!ls '/kaggle/input/plantvillage/PlantVillage/train'"
      ],
      "metadata": {
        "colab": {
          "base_uri": "https://localhost:8080/"
        },
        "id": "SzzIU268f_qJ",
        "outputId": "983e51e4-bc81-4e3c-be00-d5e095fbf68c"
      },
      "execution_count": 19,
      "outputs": [
        {
          "output_type": "stream",
          "name": "stdout",
          "text": [
            " Apple___Apple_scab\n",
            " Apple___Black_rot\n",
            " Apple___Cedar_apple_rust\n",
            " Apple___healthy\n",
            " Blueberry___healthy\n",
            "'Cherry_(including_sour)___healthy'\n",
            "'Cherry_(including_sour)___Powdery_mildew'\n",
            "'Corn_(maize)___Cercospora_leaf_spot Gray_leaf_spot'\n",
            "'Corn_(maize)___Common_rust_'\n",
            "'Corn_(maize)___healthy'\n",
            "'Corn_(maize)___Northern_Leaf_Blight'\n",
            " Grape___Black_rot\n",
            "'Grape___Esca_(Black_Measles)'\n",
            " Grape___healthy\n",
            "'Grape___Leaf_blight_(Isariopsis_Leaf_Spot)'\n",
            "'Orange___Haunglongbing_(Citrus_greening)'\n",
            " Peach___Bacterial_spot\n",
            " Peach___healthy\n",
            " Pepper,_bell___Bacterial_spot\n",
            " Pepper,_bell___healthy\n",
            " Potato___Early_blight\n",
            " Potato___healthy\n",
            " Potato___Late_blight\n",
            " Raspberry___healthy\n",
            " Soybean___healthy\n",
            " Squash___Powdery_mildew\n",
            " Strawberry___healthy\n",
            " Strawberry___Leaf_scorch\n",
            " Tomato___Bacterial_spot\n",
            " Tomato___Early_blight\n",
            " Tomato___healthy\n",
            " Tomato___Late_blight\n",
            " Tomato___Leaf_Mold\n",
            " Tomato___Septoria_leaf_spot\n",
            "'Tomato___Spider_mites Two-spotted_spider_mite'\n",
            " Tomato___Target_Spot\n",
            " Tomato___Tomato_mosaic_virus\n",
            " Tomato___Tomato_Yellow_Leaf_Curl_Virus\n"
          ]
        }
      ]
    },
    {
      "cell_type": "code",
      "source": [
        "import os\n",
        "import glob\n",
        "import numpy as np\n",
        "import pandas as pd\n",
        "import matplotlib.pyplot as plt\n",
        "import seaborn as sns\n",
        "import tensorflow as tf\n",
        "from sklearn.metrics import confusion_matrix, classification_report\n",
        "from tensorflow.keras.preprocessing.image import ImageDataGenerator\n",
        "from tensorflow.keras import layers, models"
      ],
      "metadata": {
        "id": "zllDob_-hg-H"
      },
      "execution_count": 20,
      "outputs": []
    },
    {
      "cell_type": "code",
      "source": [
        "path_train = '/kaggle/input/plantvillage/PlantVillage/train'\n",
        "path_test = '/kaggle/input/plantvillage/PlantVillage/val'"
      ],
      "metadata": {
        "id": "_4-l1-SDhmyz"
      },
      "execution_count": 21,
      "outputs": []
    },
    {
      "cell_type": "code",
      "source": [
        "train_files = glob.glob(path_train + '/Potato*/*')\n",
        "test_files = glob.glob(path_test + '/Potato*/*')"
      ],
      "metadata": {
        "id": "GhzuRiFkhptp"
      },
      "execution_count": 22,
      "outputs": []
    },
    {
      "cell_type": "code",
      "source": [
        "def build_df(file_list):\n",
        "    return pd.DataFrame({\n",
        "        'filename': [os.path.relpath(f, start=path_train if 'train' in f else path_test) for f in file_list],\n",
        "        'class': [os.path.basename(os.path.dirname(f)) for f in file_list]\n",
        "    })\n",
        "\n",
        "train_df = build_df(train_files)\n",
        "test_df = build_df(test_files)"
      ],
      "metadata": {
        "id": "JepP0OiahvaL"
      },
      "execution_count": 23,
      "outputs": []
    },
    {
      "cell_type": "code",
      "source": [
        "image_size = (128, 128)\n",
        "batch_size = 32"
      ],
      "metadata": {
        "id": "2s_khEJih0Ml"
      },
      "execution_count": 24,
      "outputs": []
    },
    {
      "cell_type": "code",
      "source": [
        "train_datagen = ImageDataGenerator(\n",
        "    rescale=1./255,\n",
        "    rotation_range=20,\n",
        "    width_shift_range=0.1,\n",
        "    height_shift_range=0.1,\n",
        "    shear_range=0.1,\n",
        "    zoom_range=0.2,\n",
        "    horizontal_flip=True,\n",
        "    validation_split=0.2\n",
        ")\n",
        "\n",
        "test_datagen = ImageDataGenerator(rescale=1./255)"
      ],
      "metadata": {
        "id": "fuAOfN2njiPt"
      },
      "execution_count": 25,
      "outputs": []
    },
    {
      "cell_type": "code",
      "source": [
        "train_generator = train_datagen.flow_from_dataframe(\n",
        "    train_df,\n",
        "    directory=path_train,\n",
        "    x_col='filename',\n",
        "    y_col='class',\n",
        "    target_size=image_size,\n",
        "    batch_size=batch_size,\n",
        "    class_mode='categorical',\n",
        "    subset='training',\n",
        "    shuffle=True\n",
        ")\n",
        "\n",
        "val_generator = train_datagen.flow_from_dataframe(\n",
        "    train_df,\n",
        "    directory=path_train,\n",
        "    x_col='filename',\n",
        "    y_col='class',\n",
        "    target_size=image_size,\n",
        "    batch_size=batch_size,\n",
        "    class_mode='categorical',\n",
        "    subset='validation',\n",
        "    shuffle=False\n",
        ")\n",
        "\n",
        "test_generator = test_datagen.flow_from_dataframe(\n",
        "    test_df,\n",
        "    directory=path_test,\n",
        "    x_col='filename',\n",
        "    y_col='class',\n",
        "    target_size=image_size,\n",
        "    batch_size=batch_size,\n",
        "    class_mode='categorical',\n",
        "    shuffle=False\n",
        ")"
      ],
      "metadata": {
        "colab": {
          "base_uri": "https://localhost:8080/"
        },
        "id": "zze4uYAHjoYM",
        "outputId": "02c23cb1-c068-4774-c93e-20ce4ee8fb14"
      },
      "execution_count": 26,
      "outputs": [
        {
          "output_type": "stream",
          "name": "stdout",
          "text": [
            "Found 1377 validated image filenames belonging to 3 classes.\n",
            "Found 344 validated image filenames belonging to 3 classes.\n",
            "Found 431 validated image filenames belonging to 3 classes.\n"
          ]
        }
      ]
    },
    {
      "cell_type": "code",
      "source": [
        "def flatten_generator(gen):\n",
        "    X, y = [], []\n",
        "    for batch_x, batch_y in gen:\n",
        "        X.extend(batch_x.reshape(batch_x.shape[0], -1))\n",
        "        y.extend(batch_y)\n",
        "        if len(X) >= len(gen.filenames):\n",
        "            break\n",
        "    return np.array(X), np.array(y)\n",
        "\n",
        "X_train_ann, y_train_ann = flatten_generator(train_generator)\n",
        "X_val_ann, y_val_ann = flatten_generator(val_generator)\n",
        "X_test_ann, y_test_ann = flatten_generator(test_generator)\n"
      ],
      "metadata": {
        "id": "WlrrWx_ltp9f"
      },
      "execution_count": 32,
      "outputs": []
    },
    {
      "cell_type": "code",
      "source": [
        "num_classes = len(train_generator.class_indices)"
      ],
      "metadata": {
        "id": "cvjMG3ykt3iY"
      },
      "execution_count": 33,
      "outputs": []
    },
    {
      "cell_type": "code",
      "source": [
        "ann_model = models.Sequential([\n",
        "    layers.Input(shape=(X_train_ann.shape[1],)),\n",
        "    layers.Dense(256, activation='relu'),\n",
        "    layers.Dropout(0.3),\n",
        "    layers.Dense(128, activation='relu'),\n",
        "    layers.Dense(num_classes, activation='softmax')\n",
        "])\n",
        "\n",
        "ann_model.compile(optimizer='adam', loss='categorical_crossentropy', metrics=['accuracy'])\n"
      ],
      "metadata": {
        "id": "BsJOHoqYuAqx"
      },
      "execution_count": 34,
      "outputs": []
    },
    {
      "cell_type": "code",
      "source": [
        "# Train ANN\n",
        "ann_history = ann_model.fit(X_train_ann, y_train_ann, validation_data=(X_val_ann, y_val_ann), epochs=10)\n"
      ],
      "metadata": {
        "colab": {
          "base_uri": "https://localhost:8080/"
        },
        "id": "S9SW1MPmuDiR",
        "outputId": "e31da034-9db0-4d62-85d6-e72468fbad30"
      },
      "execution_count": 35,
      "outputs": [
        {
          "output_type": "stream",
          "name": "stdout",
          "text": [
            "Epoch 1/10\n",
            "\u001b[1m44/44\u001b[0m \u001b[32m━━━━━━━━━━━━━━━━━━━━\u001b[0m\u001b[37m\u001b[0m \u001b[1m13s\u001b[0m 249ms/step - accuracy: 0.5050 - loss: 8.5736 - val_accuracy: 0.0000e+00 - val_loss: 47.1363\n",
            "Epoch 2/10\n",
            "\u001b[1m44/44\u001b[0m \u001b[32m━━━━━━━━━━━━━━━━━━━━\u001b[0m\u001b[37m\u001b[0m \u001b[1m21s\u001b[0m 256ms/step - accuracy: 0.5884 - loss: 3.2320 - val_accuracy: 0.2645 - val_loss: 19.6607\n",
            "Epoch 3/10\n",
            "\u001b[1m44/44\u001b[0m \u001b[32m━━━━━━━━━━━━━━━━━━━━\u001b[0m\u001b[37m\u001b[0m \u001b[1m11s\u001b[0m 254ms/step - accuracy: 0.7231 - loss: 0.7375 - val_accuracy: 0.3285 - val_loss: 9.2978\n",
            "Epoch 4/10\n",
            "\u001b[1m44/44\u001b[0m \u001b[32m━━━━━━━━━━━━━━━━━━━━\u001b[0m\u001b[37m\u001b[0m \u001b[1m11s\u001b[0m 256ms/step - accuracy: 0.6439 - loss: 0.7078 - val_accuracy: 0.6483 - val_loss: 6.4084\n",
            "Epoch 5/10\n",
            "\u001b[1m44/44\u001b[0m \u001b[32m━━━━━━━━━━━━━━━━━━━━\u001b[0m\u001b[37m\u001b[0m \u001b[1m20s\u001b[0m 245ms/step - accuracy: 0.6204 - loss: 0.7162 - val_accuracy: 0.0262 - val_loss: 6.4872\n",
            "Epoch 6/10\n",
            "\u001b[1m44/44\u001b[0m \u001b[32m━━━━━━━━━━━━━━━━━━━━\u001b[0m\u001b[37m\u001b[0m \u001b[1m11s\u001b[0m 256ms/step - accuracy: 0.5795 - loss: 0.7282 - val_accuracy: 0.0000e+00 - val_loss: 5.5193\n",
            "Epoch 7/10\n",
            "\u001b[1m44/44\u001b[0m \u001b[32m━━━━━━━━━━━━━━━━━━━━\u001b[0m\u001b[37m\u001b[0m \u001b[1m21s\u001b[0m 259ms/step - accuracy: 0.5156 - loss: 0.8173 - val_accuracy: 0.0872 - val_loss: 2.9740\n",
            "Epoch 8/10\n",
            "\u001b[1m44/44\u001b[0m \u001b[32m━━━━━━━━━━━━━━━━━━━━\u001b[0m\u001b[37m\u001b[0m \u001b[1m13s\u001b[0m 292ms/step - accuracy: 0.6117 - loss: 0.6617 - val_accuracy: 0.1599 - val_loss: 5.1075\n",
            "Epoch 9/10\n",
            "\u001b[1m44/44\u001b[0m \u001b[32m━━━━━━━━━━━━━━━━━━━━\u001b[0m\u001b[37m\u001b[0m \u001b[1m12s\u001b[0m 277ms/step - accuracy: 0.6439 - loss: 0.6273 - val_accuracy: 0.3576 - val_loss: 4.1347\n",
            "Epoch 10/10\n",
            "\u001b[1m44/44\u001b[0m \u001b[32m━━━━━━━━━━━━━━━━━━━━\u001b[0m\u001b[37m\u001b[0m \u001b[1m20s\u001b[0m 260ms/step - accuracy: 0.6917 - loss: 0.5540 - val_accuracy: 0.5436 - val_loss: 5.7513\n"
          ]
        }
      ]
    },
    {
      "cell_type": "code",
      "source": [
        "# Evaluate ANN\n",
        "ann_loss, ann_acc = ann_model.evaluate(X_test_ann, y_test_ann)\n",
        "print(f\" ANN Test Accuracy: {ann_acc:.2f}\")"
      ],
      "metadata": {
        "colab": {
          "base_uri": "https://localhost:8080/"
        },
        "id": "gDis5R12uG6z",
        "outputId": "40c84d3b-4db0-44e2-e856-b98c4a39ae43"
      },
      "execution_count": 36,
      "outputs": [
        {
          "output_type": "stream",
          "name": "stdout",
          "text": [
            "\u001b[1m14/14\u001b[0m \u001b[32m━━━━━━━━━━━━━━━━━━━━\u001b[0m\u001b[37m\u001b[0m \u001b[1m0s\u001b[0m 31ms/step - accuracy: 0.5702 - loss: 3.9231\n",
            " ANN Test Accuracy: 0.53\n"
          ]
        }
      ]
    },
    {
      "cell_type": "code",
      "source": [
        "#  CNN Model\n",
        "cnn_model = models.Sequential([\n",
        "    layers.Input(shape=(*image_size, 3)),\n",
        "    layers.Conv2D(32, (3, 3), activation='relu'),\n",
        "    layers.MaxPooling2D(),\n",
        "    layers.Conv2D(64, (3, 3), activation='relu'),\n",
        "    layers.MaxPooling2D(),\n",
        "    layers.Conv2D(128, (3, 3), activation='relu'),\n",
        "    layers.MaxPooling2D(),\n",
        "    layers.Flatten(),\n",
        "    layers.Dense(128, activation='relu'),\n",
        "    layers.Dropout(0.3),\n",
        "    layers.Dense(num_classes, activation='softmax')\n",
        "])\n",
        "\n",
        "cnn_model.compile(optimizer='adam', loss='categorical_crossentropy', metrics=['accuracy'])"
      ],
      "metadata": {
        "id": "cFCyQE5Yjr6N"
      },
      "execution_count": 37,
      "outputs": []
    },
    {
      "cell_type": "code",
      "source": [
        "#  Train CNN\n",
        "cnn_history = cnn_model.fit(train_generator, validation_data=val_generator, epochs=10)\n"
      ],
      "metadata": {
        "colab": {
          "base_uri": "https://localhost:8080/"
        },
        "id": "mtz9jORHlEjQ",
        "outputId": "6750c3ea-b7fe-430c-d6d0-4a0a7fd6406b"
      },
      "execution_count": 31,
      "outputs": [
        {
          "output_type": "stream",
          "name": "stderr",
          "text": [
            "/usr/local/lib/python3.11/dist-packages/keras/src/trainers/data_adapters/py_dataset_adapter.py:121: UserWarning: Your `PyDataset` class should call `super().__init__(**kwargs)` in its constructor. `**kwargs` can include `workers`, `use_multiprocessing`, `max_queue_size`. Do not pass these arguments to `fit()`, as they will be ignored.\n",
            "  self._warn_if_super_not_called()\n"
          ]
        },
        {
          "output_type": "stream",
          "name": "stdout",
          "text": [
            "Epoch 1/10\n",
            "\u001b[1m44/44\u001b[0m \u001b[32m━━━━━━━━━━━━━━━━━━━━\u001b[0m\u001b[37m\u001b[0m \u001b[1m61s\u001b[0m 1s/step - accuracy: 0.5736 - loss: 0.7007 - val_accuracy: 0.5349 - val_loss: 4.6218\n",
            "Epoch 2/10\n",
            "\u001b[1m44/44\u001b[0m \u001b[32m━━━━━━━━━━━━━━━━━━━━\u001b[0m\u001b[37m\u001b[0m \u001b[1m62s\u001b[0m 1s/step - accuracy: 0.8761 - loss: 0.2971 - val_accuracy: 0.6134 - val_loss: 5.4744\n",
            "Epoch 3/10\n",
            "\u001b[1m44/44\u001b[0m \u001b[32m━━━━━━━━━━━━━━━━━━━━\u001b[0m\u001b[37m\u001b[0m \u001b[1m56s\u001b[0m 1s/step - accuracy: 0.9163 - loss: 0.2126 - val_accuracy: 0.5320 - val_loss: 3.4824\n",
            "Epoch 4/10\n",
            "\u001b[1m44/44\u001b[0m \u001b[32m━━━━━━━━━━━━━━━━━━━━\u001b[0m\u001b[37m\u001b[0m \u001b[1m56s\u001b[0m 1s/step - accuracy: 0.9118 - loss: 0.2224 - val_accuracy: 0.6279 - val_loss: 5.4271\n",
            "Epoch 5/10\n",
            "\u001b[1m44/44\u001b[0m \u001b[32m━━━━━━━━━━━━━━━━━━━━\u001b[0m\u001b[37m\u001b[0m \u001b[1m68s\u001b[0m 2s/step - accuracy: 0.9476 - loss: 0.1298 - val_accuracy: 0.6453 - val_loss: 5.0997\n",
            "Epoch 6/10\n",
            "\u001b[1m44/44\u001b[0m \u001b[32m━━━━━━━━━━━━━━━━━━━━\u001b[0m\u001b[37m\u001b[0m \u001b[1m62s\u001b[0m 1s/step - accuracy: 0.9553 - loss: 0.1099 - val_accuracy: 0.5233 - val_loss: 4.4642\n",
            "Epoch 7/10\n",
            "\u001b[1m44/44\u001b[0m \u001b[32m━━━━━━━━━━━━━━━━━━━━\u001b[0m\u001b[37m\u001b[0m \u001b[1m56s\u001b[0m 1s/step - accuracy: 0.9504 - loss: 0.1396 - val_accuracy: 0.5814 - val_loss: 4.2932\n",
            "Epoch 8/10\n",
            "\u001b[1m44/44\u001b[0m \u001b[32m━━━━━━━━━━━━━━━━━━━━\u001b[0m\u001b[37m\u001b[0m \u001b[1m64s\u001b[0m 1s/step - accuracy: 0.9399 - loss: 0.1404 - val_accuracy: 0.6308 - val_loss: 5.7297\n",
            "Epoch 9/10\n",
            "\u001b[1m44/44\u001b[0m \u001b[32m━━━━━━━━━━━━━━━━━━━━\u001b[0m\u001b[37m\u001b[0m \u001b[1m68s\u001b[0m 2s/step - accuracy: 0.9423 - loss: 0.1400 - val_accuracy: 0.6250 - val_loss: 5.0512\n",
            "Epoch 10/10\n",
            "\u001b[1m44/44\u001b[0m \u001b[32m━━━━━━━━━━━━━━━━━━━━\u001b[0m\u001b[37m\u001b[0m \u001b[1m64s\u001b[0m 1s/step - accuracy: 0.9651 - loss: 0.1077 - val_accuracy: 0.5785 - val_loss: 4.8840\n"
          ]
        }
      ]
    },
    {
      "cell_type": "code",
      "source": [
        "#  Evaluate CNN\n",
        "cnn_loss, cnn_acc = cnn_model.evaluate(test_generator)\n",
        "print(f\"CNN Test Accuracy: {cnn_acc:.2f}\")\n"
      ],
      "metadata": {
        "colab": {
          "base_uri": "https://localhost:8080/"
        },
        "id": "6_eOEci4lKFz",
        "outputId": "be823382-c9b1-4259-f4fa-5e8ecfbbb358"
      },
      "execution_count": 38,
      "outputs": [
        {
          "output_type": "stream",
          "name": "stdout",
          "text": [
            "\u001b[1m14/14\u001b[0m \u001b[32m━━━━━━━━━━━━━━━━━━━━\u001b[0m\u001b[37m\u001b[0m \u001b[1m6s\u001b[0m 393ms/step - accuracy: 0.2071 - loss: 1.1183\n",
            "CNN Test Accuracy: 0.19\n"
          ]
        }
      ]
    },
    {
      "cell_type": "code",
      "source": [
        "# STEP 14: Confusion Matrix (for CNN)\n",
        "y_pred_cnn = cnn_model.predict(test_generator)\n",
        "y_pred_classes = np.argmax(y_pred_cnn, axis=1)\n",
        "y_true = test_generator.classes\n",
        "class_labels = list(test_generator.class_indices.keys())\n",
        "\n",
        "cm = confusion_matrix(y_true, y_pred_classes)\n",
        "cm_df = pd.DataFrame(cm, index=class_labels, columns=class_labels)\n",
        "\n",
        "plt.figure(figsize=(6, 5))\n",
        "sns.heatmap(cm_df, annot=True, fmt='d', cmap='Blues')\n",
        "plt.title(\"CNN Confusion Matrix\")\n",
        "plt.xlabel(\"Predicted\")\n",
        "plt.ylabel(\"True\")\n",
        "plt.show()"
      ],
      "metadata": {
        "colab": {
          "base_uri": "https://localhost:8080/",
          "height": 638
        },
        "id": "RIb0RRr2rE27",
        "outputId": "09e62aa7-4905-49c1-93e1-852f0831e2ac"
      },
      "execution_count": 39,
      "outputs": [
        {
          "output_type": "stream",
          "name": "stdout",
          "text": [
            "\u001b[1m14/14\u001b[0m \u001b[32m━━━━━━━━━━━━━━━━━━━━\u001b[0m\u001b[37m\u001b[0m \u001b[1m6s\u001b[0m 395ms/step\n"
          ]
        },
        {
          "output_type": "display_data",
          "data": {
            "text/plain": [
              "<Figure size 600x500 with 2 Axes>"
            ],
            "image/png": "[encoded data removed]"
          },
          "metadata": {}
        }
      ]
    },
    {
      "cell_type": "code",
      "source": [
        "# STEP 15: Accuracy comparison plot\n",
        "plt.plot(cnn_history.history['val_accuracy'], label='CNN')\n",
        "plt.plot(ann_history.history['val_accuracy'], label='ANN')\n",
        "plt.title(\"Validation Accuracy Comparison\")\n",
        "plt.xlabel(\"Epoch\")\n",
        "plt.ylabel(\"Accuracy\")\n",
        "plt.legend()\n",
        "plt.grid(True)\n",
        "plt.show()\n"
      ],
      "metadata": {
        "colab": {
          "base_uri": "https://localhost:8080/",
          "height": 472
        },
        "id": "2hEoKw_GrEq9",
        "outputId": "47d2fd1d-92fd-458e-d310-72abfbde2f1e"
      },
      "execution_count": 40,
      "outputs": [
        {
          "output_type": "display_data",
          "data": {
            "text/plain": [
              "<Figure size 640x480 with 1 Axes>"
            ],
            "image/png": "[encoded data removed]"
          },
          "metadata": {}
        }
      ]
    },
    {
      "cell_type": "code",
      "source": [],
      "metadata": {
        "id": "DTanx7vjrEc6"
      },
      "execution_count": null,
      "outputs": []
    }
  ]
}